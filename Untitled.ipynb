{
 "cells": [
  {
   "cell_type": "code",
   "execution_count": 2,
   "id": "a160510f-5944-4fed-af47-3a60088f75f6",
   "metadata": {},
   "outputs": [],
   "source": [
    "from oceanum.datamesh import Connector"
   ]
  },
  {
   "cell_type": "code",
   "execution_count": null,
   "id": "4c472796-8deb-4a41-a7d8-39e677cd0bcc",
   "metadata": {},
   "outputs": [],
   "source": [
    "assert 1==2"
   ]
  },
  {
   "cell_type": "code",
   "execution_count": null,
   "id": "06184028-5457-4fec-8561-704536e4e726",
   "metadata": {},
   "outputs": [],
   "source": []
  }
 ],
 "metadata": {
  "kernelspec": {
   "display_name": "Python 3 (ipykernel)",
   "language": "python",
   "name": "python3"
  },
  "language_info": {
   "codemirror_mode": {
    "name": "ipython",
    "version": 3
   },
   "file_extension": ".py",
   "mimetype": "text/x-python",
   "name": "python",
   "nbconvert_exporter": "python",
   "pygments_lexer": "ipython3",
   "version": "3.10.6"
  }
 },
 "nbformat": 4,
 "nbformat_minor": 5
}
